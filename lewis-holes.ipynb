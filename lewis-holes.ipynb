{
 "cells": [
  {
   "cell_type": "code",
   "execution_count": 110,
   "id": "0fd889b1-5da6-4cf0-a20b-39137c003b24",
   "metadata": {},
   "outputs": [],
   "source": [
    "import pandas as pd\n",
    "import numpy as np\n",
    "from src.helpers import SAMOTHRACE_SHEET_NAMES\n",
    "\n",
    "df = pd.read_excel('./data/samothrace/samothrace.xlsx', sheet_name=SAMOTHRACE_SHEET_NAMES)\n",
    "df['Altar Court']\n",
    "\n",
    "# need to combine all other measurements from other sheets\n",
    "new_df = pd.DataFrame(pd.concat(list(map(lambda x: x['Hole Length at Base'], df.values())), ignore_index=True))"
   ]
  },
  {
   "cell_type": "code",
   "execution_count": 111,
   "id": "95243e7c-8460-424e-99a3-14c1224ab714",
   "metadata": {},
   "outputs": [
    {
     "data": {
      "text/plain": [
       "<AxesSubplot: >"
      ]
     },
     "execution_count": 111,
     "metadata": {},
     "output_type": "execute_result"
    },
    {
     "data": {
      "image/png": "[encoded data removed]",
      "text/plain": [
       "<Figure size 432x288 with 1 Axes>"
      ]
     },
     "metadata": {
      "needs_background": "light"
     },
     "output_type": "display_data"
    }
   ],
   "source": [
    "#for sheet_name in SAMOTHRACE_SHEET_NAMES:\n",
    "std_dev = new_df['Hole Length at Base'].std()\n",
    "mean = new_df['Hole Length at Base'].mean()\n",
    "num_devs = 3\n",
    "\n",
    "# remove outliers (x >= 3 std deviations from mean)\n",
    "new_df = new_df[(new_df['Hole Length at Base'] <= mean+(num_devs * std_dev))]\n",
    "\n",
    "new_df['quartiles'] = pd.qcut(new_df['Hole Length at Base'], 4, ['q1', 'q2', 'q3', 'q4'])\n",
    "\n",
    "# need to fix the box/whisker\n",
    "new_df['Hole Length at Base'].plot.box()"
   ]
  },
  {
   "cell_type": "code",
   "execution_count": 138,
   "id": "01cce336-baa0-4d56-8675-c93f0d3d8bae",
   "metadata": {},
   "outputs": [
    {
     "data": {
      "text/plain": [
       "<AxesSubplot: >"
      ]
     },
     "execution_count": 138,
     "metadata": {},
     "output_type": "execute_result"
    },
    {
     "data": {
      "image/png": "[encoded data removed]",
      "text/plain": [
       "<Figure size 432x288 with 1 Axes>"
      ]
     },
     "metadata": {
      "needs_background": "light"
     },
     "output_type": "display_data"
    }
   ],
   "source": [
    "# how to make a the relative frequency histogram?\n",
    "length_counts = new_df['Hole Length at Base'].value_counts() / len(new_df)\n",
    "\n",
    "# frequency histogram for hole length at base\n",
    "new_df['Hole Length at Base'].hist(bins=32, label=\"Hole Length at Base\")"
   ]
  }
 ],
 "metadata": {
  "kernelspec": {
   "display_name": "Python 3 (ipykernel)",
   "language": "python",
   "name": "python3"
  },
  "language_info": {
   "codemirror_mode": {
    "name": "ipython",
    "version": 3
   },
   "file_extension": ".py",
   "mimetype": "text/x-python",
   "name": "python",
   "nbconvert_exporter": "python",
   "pygments_lexer": "ipython3",
   "version": "3.9.12"
  }
 },
 "nbformat": 4,
 "nbformat_minor": 5
}
